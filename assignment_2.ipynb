{
  "cells": [
    {
      "cell_type": "markdown",
      "metadata": {
        "id": "view-in-github",
        "colab_type": "text"
      },
      "source": [
        "<a href=\"https://colab.research.google.com/github/omkar4096/NN_IP_2/blob/main/assignment_2.ipynb\" target=\"_parent\"><img src=\"https://colab.research.google.com/assets/colab-badge.svg\" alt=\"Open In Colab\"/></a>"
      ]
    },
    {
      "cell_type": "code",
      "execution_count": 3,
      "id": "3106587d",
      "metadata": {
        "colab": {
          "base_uri": "https://localhost:8080/"
        },
        "id": "3106587d",
        "outputId": "6b2cce1d-383a-474d-d9f9-4e11c2290d71"
      },
      "outputs": [
        {
          "output_type": "stream",
          "name": "stdout",
          "text": [
            "enter first name : sai\n",
            "enter last name : inkn\n",
            "User full name :  sai inkn\n",
            "Alternate String :  siik\n"
          ]
        }
      ],
      "source": [
        "#Enter the first name by user\n",
        "first_name= input(\"enter first name : \")\n",
        "#Enter the last name by user\n",
        "last_name= input(\"enter last name : \")\n",
        "\n",
        "#full_name is both first name and last name\n",
        "def full_name(first_name,last_name):\n",
        "    return first_name +\" \"+last_name\n",
        "#string_alternative function will prints the data alternatively\n",
        "def string_alternative(full_name):\n",
        "    new_str = \"\"\n",
        "    for index in range(0,len(full_name),2):\n",
        "                       new_str+=full_name[index]\n",
        "    return new_str\n",
        "\n",
        "\n",
        "print(\"User full name : \",full_name(first_name,last_name))\n",
        "\n",
        "print(\"Alternate String : \",string_alternative(full_name(first_name,last_name)))"
      ]
    },
    {
      "cell_type": "code",
      "execution_count": 14,
      "id": "fe3e8667",
      "metadata": {
        "id": "fe3e8667"
      },
      "outputs": [],
      "source": [
        "#Read the Input file from Home\n",
        "Input_file = open(\"Input.txt\", \"r\")\n",
        "#Write the number of words count and split the data from input file\n",
        "output_file = open(\"output.txt\", \"w\")\n",
        "\n",
        "content = {}\n",
        "\n",
        "\n",
        "for line in Input_file:\n",
        "    output_file.write(line)\n",
        "    new_l = line.split()\n",
        "    for x in new_l:\n",
        "        if(content.get(x)==None):\n",
        "            content[x]=1\n",
        "        else:\n",
        "            content[x] = content[x] + 1\n",
        "\n",
        "output_file.write(\" Word_Count : \")\n",
        "for key, value in content.items():\n",
        "        output_file.write('%s:%s\\n' % (key, value))\n",
        "Input_file.close()\n",
        "output_file.close()"
      ]
    },
    {
      "cell_type": "code",
      "execution_count": 6,
      "id": "f552e97e",
      "metadata": {
        "colab": {
          "base_uri": "https://localhost:8080/"
        },
        "id": "f552e97e",
        "outputId": "50b0dc47-9243-4dd8-cfe0-ba4a18f321b8"
      },
      "outputs": [
        {
          "output_type": "stream",
          "name": "stdout",
          "text": [
            "enter customer heights : 4545\n",
            "show list :  [11544.3]\n"
          ]
        }
      ],
      "source": [
        "#Read the input data of customer heights in inches\n",
        "data = input(\"enter customer heights : \")\n",
        "\n",
        "#convert the height of customer in inches to centimeters\n",
        "def inchToCent(value):\n",
        "    return value*2.54\n",
        "\n",
        "heights = data.split()\n",
        "\n",
        "new_list = []\n",
        "\n",
        "for x in heights:\n",
        "    value = int(x)\n",
        "    new_list.append(inchToCent(value))\n",
        "\n",
        "print(\"show list : \",new_list)"
      ]
    }
  ],
  "metadata": {
    "kernelspec": {
      "display_name": "Python 3 (ipykernel)",
      "language": "python",
      "name": "python3"
    },
    "language_info": {
      "codemirror_mode": {
        "name": "ipython",
        "version": 3
      },
      "file_extension": ".py",
      "mimetype": "text/x-python",
      "name": "python",
      "nbconvert_exporter": "python",
      "pygments_lexer": "ipython3",
      "version": "3.9.13"
    },
    "colab": {
      "provenance": [],
      "include_colab_link": true
    }
  },
  "nbformat": 4,
  "nbformat_minor": 5
}